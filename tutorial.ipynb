{
 "cells": [
  {
   "cell_type": "code",
   "execution_count": 1,
   "metadata": {},
   "outputs": [],
   "source": [
    "import numpy as np\n",
    "from tensorflow.keras.models import Sequential\n",
    "from tensorflow.keras.layers import Dense, Conv2D, Flatten, Dropout, MaxPooling2D\n",
    "from tensorflow.keras.preprocessing.image import ImageDataGenerator\n",
    "import matplotlib.pyplot as plt\n",
    "from os import path, listdir"
   ]
  },
  {
   "cell_type": "code",
   "execution_count": 2,
   "metadata": {},
   "outputs": [],
   "source": [
    "PATH = 'dataset/'\n",
    "\n",
    "train_dir = path.join(PATH, 'train')\n",
    "test_dir  = path.join(PATH, 'test')\n",
    "\n",
    "train_hotdog_dir     = path.join(train_dir, 'hot_dog')\n",
    "train_not_hotdog_dir = path.join(train_dir, 'not_hot_dog')\n",
    "test_hotdog_dir      = path.join(test_dir, 'hot_dog')\n",
    "test_not_hotdog_dir  = path.join(test_dir, 'not_hot_dog')"
   ]
  },
  {
   "cell_type": "code",
   "execution_count": 3,
   "metadata": {},
   "outputs": [],
   "source": [
    "IMG_DIM = (256, 256)"
   ]
  },
  {
   "cell_type": "code",
   "execution_count": 7,
   "metadata": {},
   "outputs": [],
   "source": [
    "batch_size=64"
   ]
  },
  {
   "cell_type": "code",
   "execution_count": 5,
   "metadata": {},
   "outputs": [],
   "source": [
    "data_gen_para = {\n",
    "    'rescale': 1/255,\n",
    "    'horizontal_flip': True,\n",
    "    'vertical_flip': True,\n",
    "    'rotation_range': 30\n",
    "}\n",
    "\n",
    "train_image_gen = ImageDataGenerator(**data_gen_para)\n",
    "test_image_gen = ImageDataGenerator(**data_gen_para)"
   ]
  },
  {
   "cell_type": "code",
   "execution_count": 8,
   "metadata": {},
   "outputs": [
    {
     "name": "stdout",
     "output_type": "stream",
     "text": [
      "Found 498 images belonging to 2 classes.\n",
      "Found 500 images belonging to 2 classes.\n"
     ]
    }
   ],
   "source": [
    "train_data_gen = train_image_gen.flow_from_directory(batch_size=batch_size,\n",
    "                                                    directory=train_dir,\n",
    "                                                    shuffle=True,\n",
    "                                                    color_mode='rgb',\n",
    "                                                    target_size=IMG_DIM,\n",
    "                                                    class_mode='binary')\n",
    "test_data_gen = test_image_gen.flow_from_directory(batch_size=batch_size,\n",
    "                                                    directory=test_dir,\n",
    "                                                    class_mode='binary')"
   ]
  },
  {
   "cell_type": "code",
   "execution_count": 9,
   "metadata": {},
   "outputs": [],
   "source": [
    "model = Sequential([\n",
    "    Conv2D(32, (3, 3), padding='same', activation='relu', input_shape=(*IMG_DIM, 3)),\n",
    "    MaxPooling2D(),\n",
    "    Flatten(),\n",
    "    Dense(64, activation='relu'),\n",
    "    Dropout(.1),\n",
    "    Dense(1, activation='sigmoid')\n",
    "])"
   ]
  },
  {
   "cell_type": "code",
   "execution_count": 10,
   "metadata": {},
   "outputs": [],
   "source": [
    "model.compile(optimizer='adam',\n",
    "              loss='binary_crossentropy',\n",
    "              metrics=['accuracy'])"
   ]
  },
  {
   "cell_type": "code",
   "execution_count": 11,
   "metadata": {},
   "outputs": [
    {
     "name": "stdout",
     "output_type": "stream",
     "text": [
      "Model: \"sequential\"\n",
      "_________________________________________________________________\n",
      "Layer (type)                 Output Shape              Param #   \n",
      "=================================================================\n",
      "conv2d (Conv2D)              (None, 256, 256, 32)      896       \n",
      "_________________________________________________________________\n",
      "max_pooling2d (MaxPooling2D) (None, 128, 128, 32)      0         \n",
      "_________________________________________________________________\n",
      "flatten (Flatten)            (None, 524288)            0         \n",
      "_________________________________________________________________\n",
      "dense (Dense)                (None, 64)                33554496  \n",
      "_________________________________________________________________\n",
      "dropout (Dropout)            (None, 64)                0         \n",
      "_________________________________________________________________\n",
      "dense_1 (Dense)              (None, 1)                 65        \n",
      "=================================================================\n",
      "Total params: 33,555,457\n",
      "Trainable params: 33,555,457\n",
      "Non-trainable params: 0\n",
      "_________________________________________________________________\n"
     ]
    }
   ],
   "source": [
    "model.summary()"
   ]
  },
  {
   "cell_type": "code",
   "execution_count": 12,
   "metadata": {},
   "outputs": [],
   "source": [
    "total_train_size = len(listdir(train_hotdog_dir)) + len(listdir(train_not_hotdog_dir))\n",
    "total_test_size = len(listdir(test_hotdog_dir)) + len(listdir(test_not_hotdog_dir))\n",
    "total_data_size = total_train_size + total_test_size"
   ]
  },
  {
   "cell_type": "code",
   "execution_count": 13,
   "metadata": {},
   "outputs": [
    {
     "name": "stdout",
     "output_type": "stream",
     "text": [
      "Epoch 1/20\n",
      "7/7 [==============================] - 49s 7s/step - loss: 10.2407 - accuracy: 0.4940 - val_loss: 2.4769 - val_accuracy: 0.5080\n",
      "Epoch 2/20\n",
      "7/7 [==============================] - 38s 6s/step - loss: 2.2931 - accuracy: 0.5714 - val_loss: 1.1620 - val_accuracy: 0.5080\n",
      "Epoch 3/20\n",
      "7/7 [==============================] - 38s 6s/step - loss: 1.1268 - accuracy: 0.5921 - val_loss: 1.0746 - val_accuracy: 0.5000\n",
      "Epoch 4/20\n",
      "7/7 [==============================] - 38s 6s/step - loss: 1.0236 - accuracy: 0.5155 - val_loss: 0.7748 - val_accuracy: 0.5460\n",
      "Epoch 5/20\n",
      "7/7 [==============================] - 38s 6s/step - loss: 0.8273 - accuracy: 0.5688 - val_loss: 0.8175 - val_accuracy: 0.5200\n",
      "Epoch 6/20\n",
      "7/7 [==============================] - 38s 6s/step - loss: 0.7045 - accuracy: 0.5611 - val_loss: 0.7188 - val_accuracy: 0.5340\n",
      "Epoch 7/20\n",
      "7/7 [==============================] - 37s 6s/step - loss: 0.6870 - accuracy: 0.5515 - val_loss: 0.6869 - val_accuracy: 0.5440\n",
      "Epoch 8/20\n",
      "7/7 [==============================] - 38s 6s/step - loss: 0.6330 - accuracy: 0.6519 - val_loss: 0.6900 - val_accuracy: 0.5500\n",
      "Epoch 9/20\n",
      "7/7 [==============================] - 38s 6s/step - loss: 0.6123 - accuracy: 0.6520 - val_loss: 0.7004 - val_accuracy: 0.5920\n",
      "Epoch 10/20\n",
      "7/7 [==============================] - 38s 6s/step - loss: 0.6073 - accuracy: 0.6768 - val_loss: 0.6959 - val_accuracy: 0.5660\n",
      "Epoch 11/20\n",
      "7/7 [==============================] - 37s 5s/step - loss: 0.6058 - accuracy: 0.6527 - val_loss: 0.6943 - val_accuracy: 0.5600\n",
      "Epoch 12/20\n",
      "7/7 [==============================] - 38s 6s/step - loss: 0.5889 - accuracy: 0.6830 - val_loss: 0.6915 - val_accuracy: 0.5720\n",
      "Epoch 13/20\n",
      "7/7 [==============================] - 39s 6s/step - loss: 0.5987 - accuracy: 0.6467 - val_loss: 0.6942 - val_accuracy: 0.5800\n",
      "Epoch 14/20\n",
      "7/7 [==============================] - 39s 6s/step - loss: 0.5931 - accuracy: 0.6539 - val_loss: 0.7021 - val_accuracy: 0.5700\n",
      "Epoch 15/20\n",
      "7/7 [==============================] - 37s 5s/step - loss: 0.6107 - accuracy: 0.6662 - val_loss: 0.6831 - val_accuracy: 0.5980\n",
      "Epoch 16/20\n",
      "7/7 [==============================] - 37s 5s/step - loss: 0.5715 - accuracy: 0.7226 - val_loss: 0.6851 - val_accuracy: 0.6000\n",
      "Epoch 17/20\n",
      "7/7 [==============================] - 37s 6s/step - loss: 0.5888 - accuracy: 0.6870 - val_loss: 0.6817 - val_accuracy: 0.5880\n",
      "Epoch 18/20\n",
      "7/7 [==============================] - 38s 6s/step - loss: 0.5800 - accuracy: 0.7048 - val_loss: 0.6989 - val_accuracy: 0.5800\n",
      "Epoch 19/20\n",
      "7/7 [==============================] - 38s 6s/step - loss: 0.5504 - accuracy: 0.7371 - val_loss: 0.7245 - val_accuracy: 0.5900\n",
      "Epoch 20/20\n",
      "7/7 [==============================] - 38s 6s/step - loss: 0.5452 - accuracy: 0.7046 - val_loss: 0.6967 - val_accuracy: 0.5900\n"
     ]
    }
   ],
   "source": [
    "history = model.fit(train_data_gen,\n",
    "                   epochs=20,\n",
    "                   steps_per_epoch=total_train_size // batch_size,\n",
    "                   validation_data=test_data_gen)"
   ]
  },
  {
   "cell_type": "code",
   "execution_count": 14,
   "metadata": {},
   "outputs": [
    {
     "data": {
      "image/png": "[encoded data removed]",
      "text/plain": [
       "<Figure size 432x288 with 1 Axes>"
      ]
     },
     "metadata": {
      "needs_background": "light"
     },
     "output_type": "display_data"
    }
   ],
   "source": [
    "acc = history.history['accuracy']\n",
    "val_acc = history.history['val_accuracy']\n",
    "\n",
    "plt.subplot(1, 2, 1)\n",
    "plt.plot(range(20), acc, label='Training Accuracy')\n",
    "plt.plot(range(20), val_acc, label='Training Accuracy')\n",
    "plt.show()"
   ]
  }
 ],
 "metadata": {
  "kernelspec": {
   "display_name": "Python 3",
   "language": "python",
   "name": "python3"
  },
  "language_info": {
   "codemirror_mode": {
    "name": "ipython",
    "version": 3
   },
   "file_extension": ".py",
   "mimetype": "text/x-python",
   "name": "python",
   "nbconvert_exporter": "python",
   "pygments_lexer": "ipython3",
   "version": "3.8.5"
  }
 },
 "nbformat": 4,
 "nbformat_minor": 4
}
